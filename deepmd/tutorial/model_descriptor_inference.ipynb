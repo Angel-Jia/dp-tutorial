{
 "cells": [
  {
   "cell_type": "markdown",
   "metadata": {},
   "source": [
    "本篇教程将介绍如何使用deepmd和训练好的模型，得到数据集上descriptor或模型的输出结果，descriptor的输出结果可以作为特征在下游任务中使用。  \n",
    "运行本教程需要安装`deepmd-kit`和`dpdata` \n",
    "- `deepmd-kit`安装介绍：https://github.com/deepmodeling/deepmd-kit  \n",
    "- `dpdata`支持从vasp, lammps, deepmd, Amber, cp2k等软件读取输入数据，安装介绍可参考：https://github.com/deepmodeling/dpdata  \n",
    "\n",
    "本篇教程的内容可以参考代码注释：https://github.com/deepmodeling/deepmd-kit/blob/v2.1.5/deepmd/infer/deep_pot.py"
   ]
  },
  {
   "cell_type": "code",
   "execution_count": null,
   "metadata": {},
   "outputs": [],
   "source": [
    "import dpdata\n",
    "from deepmd.infer import DeepPot\n",
    "\n",
    "import numpy as np"
   ]
  },
  {
   "cell_type": "code",
   "execution_count": null,
   "metadata": {},
   "outputs": [],
   "source": [
    "# 训练好的模型路径\n",
    "model_path = '../../model/se_e2_a/water-14000.pb'\n",
    "# 数据集的路径，数据集可以是deepmd的标准格式或者VASP\n",
    "system_path = '../../data/water/data_0'\n",
    "max_nframe_each = 10\n",
    "type_map = [\"O\", \"H\"]"
   ]
  },
  {
   "cell_type": "markdown",
   "metadata": {},
   "source": [
    "## 获取descriptor的输出"
   ]
  },
  {
   "cell_type": "code",
   "execution_count": null,
   "metadata": {},
   "outputs": [],
   "source": [
    "# 加载模型\n",
    "dp = DeepPot(model_path)\n",
    "\n",
    "# 使用dpdata读取数据\n",
    "ms = dpdata.System(type_map=type_map)\n",
    "ms.from_deepmd_npy(system_path, labeled=False)\n",
    "\n",
    "# 获取当前system的frame数量\n",
    "nframe = ms.get_nframes()\n",
    "    \n",
    "# nframes x natoms x 3\n",
    "coord = ms['coords']\n",
    "# nframes x 9\n",
    "cell = ms['cells'].reshape([nframe, -1])\n",
    "# List[int]\n",
    "# len(atype) == natoms, 且第i个原子的元素种类为type_map[atype[i]]\n",
    "atype = ms['atom_types'].tolist()\n",
    "\n",
    "start_idx = 0\n",
    "end_idx = start_idx + max_nframe_each\n",
    "\n",
    "descriptor_out = []\n",
    "# 限制每次inference时的frame数量，防止内存溢出(Out Of Memory, 简称OOM)\n",
    "while start_idx < nframe:\n",
    "    out = \\\n",
    "        dp.eval_descriptor(coord[start_idx: end_idx, ...], \n",
    "                            cell[start_idx: end_idx, :],\n",
    "                            atype)\n",
    "    descriptor_out.append(out)\n",
    "    start_idx += max_nframe_each\n",
    "    end_idx += max_nframe_each\n",
    "\n",
    "# nframes x natoms x feature_num\n",
    "descriptor_out = np.concatenate(descriptor_out, axis=0)\n",
    "descriptor_out.shape"
   ]
  },
  {
   "cell_type": "markdown",
   "metadata": {},
   "source": [
    "descriptor的输出结果为nframes x natoms x feature_num, 其中feature_num的大小跟input.json中的参数有关，在这个例子中为1600"
   ]
  },
  {
   "cell_type": "markdown",
   "metadata": {},
   "source": [
    "## 获取模型的输出"
   ]
  },
  {
   "cell_type": "code",
   "execution_count": null,
   "metadata": {},
   "outputs": [],
   "source": [
    "# 加载模型\n",
    "dp = DeepPot(model_path)\n",
    "\n",
    "# 使用dpdata读取数据\n",
    "ms = dpdata.System(type_map=type_map)\n",
    "ms.from_deepmd_npy(system_path, labeled=False)\n",
    "\n",
    "nframe = ms.get_nframes()\n",
    "# nframes x natoms x 3\n",
    "coord = ms['coords']\n",
    "# nframes x 9\n",
    "cell = ms['cells'].reshape([nframe, -1])\n",
    "# List[int]\n",
    "# len(atype) == natoms, 且第i个原子的元素种类为type_map[atype[i]]\n",
    "atype = ms['atom_types'].tolist()\n",
    "\n",
    "start_idx = 0\n",
    "end_idx = start_idx + max_nframe_each\n",
    "\n",
    "energy = []\n",
    "force = []\n",
    "virial = []\n",
    "while start_idx < nframe:\n",
    "    e, f, v = \\\n",
    "        dp.eval(coord[start_idx: end_idx, :], \n",
    "                cell[start_idx: end_idx, :],\n",
    "                atype)\n",
    "    \n",
    "    energy.append(e)\n",
    "    force.append(f)\n",
    "    virial.append(v)\n",
    "\n",
    "    start_idx += max_nframe_each\n",
    "    end_idx += max_nframe_each\n",
    "\n",
    "# [nframe]\n",
    "energy = np.concatenate(energy, axis=0).squeeze()\n",
    "# nframe x -1\n",
    "force = np.concatenate(force, axis=0).reshape([nframe, -1])\n",
    "# nframe x 9\n",
    "virial = np.concatenate(virial, axis=0).reshape([nframe, -1])"
   ]
  },
  {
   "cell_type": "markdown",
   "metadata": {},
   "source": [
    "模型将输出energy(shape 为[ nframe ]), force(shape为[nframe, -1]), virial force(shape为[nframe, -9]). 其中shape为-1的意思是该维度的值可能为任意值，将在计算其它维度的大小之后再确定。例如shape[a, b, c]的矩阵reshape([nframe, -1])之后shape将变成[nframe, a * b * c / nframe].  \n",
    "输出的结果可以保存标准的npy格式，并重新被dpdata读取："
   ]
  },
  {
   "cell_type": "code",
   "execution_count": null,
   "metadata": {},
   "outputs": [],
   "source": [
    "from pathlib import Path\n",
    "save_path = Path('./system')\n",
    "# 将不含energy, force, virial force的data保存成标准deepmd格式\n",
    "ms.to('deepmd/npy', save_path)\n",
    "# 找到coord.npy的路径\n",
    "coord_path = list(save_path.glob('**/coord.npy'))[0]\n",
    "\n",
    "# 将energy, force, virial force跟coord.npy保存在同一路径下，组成标准的deepmd格式\n",
    "with open(coord_path.parent / 'energy.npy', 'wb') as f:\n",
    "    np.save(f, energy)\n",
    "with open(coord_path.parent / 'force.npy', 'wb') as f:\n",
    "    np.save(f, force)\n",
    "with open(coord_path.parent / 'virial.npy', 'wb') as f:\n",
    "    np.save(f, virial)"
   ]
  },
  {
   "cell_type": "code",
   "execution_count": null,
   "metadata": {},
   "outputs": [],
   "source": [
    "# 读取包含energy, force, virial force的数据\n",
    "ls = dpdata.LabeledSystem()\n",
    "ls.from_deepmd_npy('./system/')"
   ]
  }
 ],
 "metadata": {
  "kernelspec": {
   "display_name": "Python 3.8.13 ('dp2.1.5')",
   "language": "python",
   "name": "python3"
  },
  "language_info": {
   "codemirror_mode": {
    "name": "ipython",
    "version": 3
   },
   "file_extension": ".py",
   "mimetype": "text/x-python",
   "name": "python",
   "nbconvert_exporter": "python",
   "pygments_lexer": "ipython3",
   "version": "3.8.13"
  },
  "orig_nbformat": 4,
  "vscode": {
   "interpreter": {
    "hash": "8ba00acb958a154a84efb1320fed20ca107ed539226fcb2e3aa961180e579300"
   }
  }
 },
 "nbformat": 4,
 "nbformat_minor": 2
}
